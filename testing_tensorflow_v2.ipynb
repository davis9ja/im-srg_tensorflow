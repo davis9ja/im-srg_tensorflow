{
  "nbformat": 4,
  "nbformat_minor": 0,
  "metadata": {
    "colab": {
      "name": "testing_tensorflow_v2.ipynb",
      "version": "0.3.2",
      "provenance": [],
      "collapsed_sections": []
    },
    "kernelspec": {
      "name": "python3",
      "display_name": "Python 3"
    }
  },
  "cells": [
    {
      "cell_type": "code",
      "metadata": {
        "id": "12WjV8yIyAb0",
        "colab_type": "code",
        "outputId": "3ddb6ce6-28af-434f-bce6-dcaa221a307a",
        "colab": {
          "base_uri": "https://localhost:8080/",
          "height": 35
        }
      },
      "source": [
        "import tensorflow as tf\n",
        "import numpy as np\n",
        "import sys\n",
        "print(tf.__version__)"
      ],
      "execution_count": 0,
      "outputs": [
        {
          "output_type": "stream",
          "text": [
            "1.13.1\n"
          ],
          "name": "stdout"
        }
      ]
    },
    {
      "cell_type": "code",
      "metadata": {
        "id": "EQZeGM1NyHBk",
        "colab_type": "code",
        "colab": {}
      },
      "source": [
        "# --- BUILD HAMILTONIAN -----------\n",
        "\n",
        "\n",
        "holes = np.asarray([0,1,2,3])\n",
        "particles = np.asarray([4,5,6,7])\n",
        "\n",
        "# one-body basis is just all possible single particle states\n",
        "# B1 = tf.constant(holes+particles)#np.append(holes,particles)\n",
        "B1 = np.append(holes,particles)\n",
        "\n",
        "# we build two-body basis with all possible pairs of single particle states\n",
        "B2 = []\n",
        "ind2B = {}\n",
        "\n",
        "count = 0\n",
        "for h in holes:\n",
        "    for h2 in holes:\n",
        "        B2.append((h,h2))\n",
        "        ind2B[(h,h2)] = count\n",
        "        count += 1\n",
        "\n",
        "for h in holes:\n",
        "    for p in particles:\n",
        "        B2.append((h,p))\n",
        "        ind2B[(h,p)] = count\n",
        "        count += 1\n",
        "        \n",
        "for p in particles:\n",
        "    for h in holes:\n",
        "        B2.append((p,h))\n",
        "        ind2B[(p,h)] = count\n",
        "        count += 1\n",
        "            \n",
        "for p in particles:\n",
        "    for p2 in particles:\n",
        "        B2.append((p,p2)) \n",
        "        ind2B[(p,p2)] = count\n",
        "        count += 1           \n",
        "        \n",
        "# the one-body Hamiltonian is diagonal, with elements given by P-1 or \n",
        "# single particle state index divided by 2 (rounding down)\n",
        "H1B = np.zeros((len(B1), len(B1)))\n",
        "for i in range(len(B1)):\n",
        "    H1B[i,i] = np.floor_divide(i,2)\n",
        "\n",
        "# the two-body Hamiltonian is sparse; only non-zero contributions \n",
        "# where pq=rs or pq=sr=-rs\n",
        "H2B = np.zeros((len(B2), len(B2)))\n",
        "for i in range(len(B2)):\n",
        "    for j in range(len(B2)):\n",
        "        p, q = B2[i]\n",
        "        r, s = B2[j]\n",
        "        \n",
        "        pp = np.floor_divide(p,2)\n",
        "        qp = np.floor_divide(q,2)\n",
        "        rp = np.floor_divide(r,2)\n",
        "        sp = np.floor_divide(s,2)\n",
        "        \n",
        "        ps = 1 if p%2==0 else -1\n",
        "        qs = 1 if q%2==0 else -1\n",
        "        rs = 1 if r%2==0 else -1\n",
        "        ss = 1 if s%2==0 else -1\n",
        "        \n",
        "        if pp != qp or rp != sp:\n",
        "            continue\n",
        "        if ps == qs or rs == ss:\n",
        "            continue\n",
        "        if ps == rs and qs == ss:\n",
        "            H2B[i,j] = -0.25\n",
        "        if ps == ss and qs == rs:\n",
        "            H2B[i,j] = 0.25\n",
        "\n",
        "B1_len = len(B1)\n",
        "H2B_t = np.zeros((B1_len,B1_len,B1_len,B1_len))\n",
        "for p in B1:\n",
        "  for q in B1:\n",
        "    for r in B1:\n",
        "      for s in B1:\n",
        "        H2B_t[p,q,r,s] = H2B[ind2B[(p,q)], ind2B[(r,s)]]\n",
        "        \n",
        "# test2 = np.einsum('ijij->ij',H2B_t)\n",
        "# print(test2)\n",
        "# for i in holes:\n",
        "#   for j in holes:\n",
        "#         print(H2B[ind2B[(i,j)], ind2B[(i,j)]])\n",
        "#         print(H2B_t[i,j,i,j])\n",
        "# print(np.shape(list(map(lambda i: H2B_t[i,:,i,:], holes))))\n",
        "# test = list(map(lambda i,j: H2B_t[i,j,i,j],holes,particles))\n",
        "# print(np.shape(test))\n",
        "\n",
        "\n",
        "holes = tf.convert_to_tensor(holes, dtype=tf.int64)\n",
        "particles = tf.convert_to_tensor(particles, dtype=tf.int64)\n",
        "\n",
        "H1B_t = tf.convert_to_tensor(H1B, dtype=tf.float64)\n",
        "H2B_t = tf.convert_to_tensor(H2B_t, dtype=tf.float64)\n"
      ],
      "execution_count": 0,
      "outputs": []
    },
    {
      "cell_type": "code",
      "metadata": {
        "id": "t-gCmAPvyp4z",
        "colab_type": "code",
        "outputId": "5c7228c6-8225-4e6b-9958-74543aa7156f",
        "colab": {
          "base_uri": "https://localhost:8080/",
          "height": 72
        }
      },
      "source": [
        "# --- NORMAL ORDER HAMILTONIAN -----------\n",
        "# Calculate 0b, 1b, 2b pieces \n",
        "#\n",
        "# zero-body piece is scalar\n",
        "# one-body piece is rank 2 tensor\n",
        "# two-body piece is rank 4 tensor\n",
        "\n",
        "# - Calculate 0b tensor\n",
        "E = tf.Variable(0, dtype=tf.float64)\n",
        "contr_1b = tf.map_fn(lambda i: H1B_t[i,i], holes, dtype=tf.float64)\n",
        "contr_2b = tf.map_fn(lambda i: H2B_t[i,:,i,:], holes, dtype=tf.float64)\n",
        "\n",
        "E = tf.assign_add( E, tf.reduce_sum(contr_1b, 0) )\n",
        "E = tf.assign_add( E, 0.5*tf.reduce_sum(contr_2b, [0,1,2]) )\n",
        "\n",
        "# - Calculate 1b tensor\n",
        "f = tf.Variable(tf.identity(H1B_t), dtype=tf.float64)\n",
        "contr_2b = tf.map_fn(lambda i: H2B_t[:,i,:,i], holes, dtype=tf.float64)\n",
        "contr_2b = tf.reduce_sum(contr_2b,0) # sum over holes\n",
        "\n",
        "f = tf.add(f,contr_2b)\n",
        "\n",
        "# - Calculate 2b tensor\n",
        "G = tf.identity(H2B_t)"
      ],
      "execution_count": 0,
      "outputs": [
        {
          "output_type": "stream",
          "text": [
            "WARNING:tensorflow:From /usr/local/lib/python3.6/dist-packages/tensorflow/python/framework/op_def_library.py:263: colocate_with (from tensorflow.python.framework.ops) is deprecated and will be removed in a future version.\n",
            "Instructions for updating:\n",
            "Colocations handled automatically by placer.\n"
          ],
          "name": "stdout"
        }
      ]
    },
    {
      "cell_type": "code",
      "metadata": {
        "id": "nwn3kw6yeUQO",
        "colab_type": "code",
        "colab": {}
      },
      "source": [
        "# --- SET UP WHITE'S GENERATOR -----------\n",
        "\n",
        "# TODO: try reduce_sum, einsum, tensordot?, other methods\n",
        "\n",
        "def white(f, G, holes, particles):\n",
        "  \n",
        "  # - Calculate 1b generator tensor\n",
        "  eta1B = tf.zeros(f.shape)\n",
        "  fhh = tf.scatter_nd(tf.constant([[0], [1], [2], [3]]), tf.gather(f,holes), tf.constant([8, 8]) )\n",
        "  fpp = tf.scatter_nd(tf.constant([[4], [5], [6], [7]]), tf.gather(f,particles), tf.constant([8, 8]) )\n",
        "#   Gh = tf.reduce_sum(tf.map_fn(lambda h: H2B_t[:,h,:,h], holes, dtype=tf.float64),0)\n",
        "#   Gp = tf.reduce_sum(tf.map_fn(lambda p: H2B_t[p,:,p,:], particles, dtype=tf.float64),0)\n",
        "#   Gphph = tf.add(Gh,Gp)\n",
        "#   Gphph = tf.trace(G)\n",
        "  eta1B = tf.add(tf.subtract(fpp,fhh),Gphph)\n",
        "#   print(Gp)\n",
        "  # - Calculate 2b generator tensor\n",
        "  eta2B = tf.zeros(G.shape)\n",
        "  \n",
        "  return (eta1B, eta2B)"
      ],
      "execution_count": 0,
      "outputs": []
    },
    {
      "cell_type": "code",
      "metadata": {
        "id": "8fEsXazD7OBO",
        "colab_type": "code",
        "colab": {}
      },
      "source": [
        "sess = tf.InteractiveSession()"
      ],
      "execution_count": 0,
      "outputs": []
    },
    {
      "cell_type": "code",
      "metadata": {
        "id": "qqW27CGI0FF8",
        "colab_type": "code",
        "outputId": "dbfb500f-ea0a-4e0d-f8d2-659b5719aa1b",
        "colab": {
          "base_uri": "https://localhost:8080/",
          "height": 35
        }
      },
      "source": [
        "# indices = tf.constant([[4], [5], [6], [7]])\n",
        "# updates = tf.gather(f,particles) #tf.constant(tf.gather(f,holes))\n",
        "# shape = tf.constant([8, 8])\n",
        "# scatter = tf.scatter_nd(indices, updates, shape)\n",
        "\n",
        "sess.run(tf.global_variables_initializer())\n",
        "# occh = tf.scatter_nd(tf.constant([[0], [1], [2], [3]]), tf.gather(tf.eye(int(f.shape[0])),holes), tf.constant([8, 8]) )\n",
        "# occp = tf.scatter_nd(tf.constant([[4], [5], [6], [7]]), tf.gather(tf.eye(int(f.shape[0])),particles), tf.constant([8, 8]) )\n",
        "indices = tf.constant([ [[0,1,3,4],[1,2,3,4]],[[1,2,3,4],[2,3,4,5]] ], dtype=tf.int64)\n",
        "print(tf.gather_nd(G, indices).eval().shape)\n",
        "# eta1B,eta2B = white(f,G,holes,particles)\n",
        "# print(eta1B.eval())\n",
        "# print(tf.einsum('ijkl->ik',G).eval())\n",
        "# print(  tf.reduce_sum(tf.map_fn(lambda p: H2B_t[p,:,p,:], particles, dtype=tf.float64),0).eval())\n",
        "# print(E.eval())\n",
        "# print(f.eval())\n",
        "# print(tf.gather(f,particles).eval())\n",
        "# print(scatter.eval())"
      ],
      "execution_count": 0,
      "outputs": [
        {
          "output_type": "stream",
          "text": [
            "(2, 2)\n"
          ],
          "name": "stdout"
        }
      ]
    },
    {
      "cell_type": "code",
      "metadata": {
        "id": "tNNLN6YM0Kot",
        "colab_type": "code",
        "colab": {}
      },
      "source": [
        "sess.close()"
      ],
      "execution_count": 0,
      "outputs": []
    },
    {
      "cell_type": "code",
      "metadata": {
        "id": "OqTTHpAJ4JPT",
        "colab_type": "code",
        "colab": {}
      },
      "source": [
        ""
      ],
      "execution_count": 0,
      "outputs": []
    }
  ]
}